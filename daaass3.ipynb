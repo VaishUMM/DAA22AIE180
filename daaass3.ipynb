{
  "nbformat": 4,
  "nbformat_minor": 0,
  "metadata": {
    "colab": {
      "provenance": []
    },
    "kernelspec": {
      "name": "python3",
      "display_name": "Python 3"
    },
    "language_info": {
      "name": "python"
    }
  },
  "cells": [
    {
      "cell_type": "markdown",
      "source": [
        "1\n"
      ],
      "metadata": {
        "id": "Z0keq0h4jZqh"
      }
    },
    {
      "cell_type": "code",
      "source": [
        "def find_all_pairs_with_sum(nums, target):\n",
        "  \"\"\"\n",
        "  Finds all possible pairs in the given unsorted list `nums` that add up to the `target` sum.\n",
        "\n",
        "  Args:\n",
        "      nums: A list of integers.\n",
        "      target: The target sum.\n",
        "\n",
        "  Returns:\n",
        "      A list containing all unique pairs that add up to the target sum.\n",
        "  \"\"\"\n",
        "\n",
        "  seen = set()\n",
        "  all_pairs = []\n",
        "\n",
        "  for num in nums:\n",
        "    complement = target - num\n",
        "    if complement in seen:\n",
        "      all_pairs.append([complement, num])\n",
        "    seen.add(num)\n",
        "\n",
        "  return all_pairs\n",
        "\n",
        "# Get user input for the list of integers\n",
        "num_str = input(\"Enter comma-separated integers for the list: \")\n",
        "nums = [int(num) for num in num_str.split(\",\")]\n",
        "\n",
        "# Get user input for the target sum\n",
        "target = int(input(\"Enter the target sum: \"))\n",
        "\n",
        "all_pairs = find_all_pairs_with_sum(nums, target)\n",
        "\n",
        "if all_pairs:\n",
        "  print(\"All possible pairs that add up to\", target, \":\")\n",
        "  for pair in all_pairs:\n",
        "    print(pair)\n",
        "else:\n",
        "  print(\"No pairs found with that target sum\")\n"
      ],
      "metadata": {
        "colab": {
          "base_uri": "https://localhost:8080/"
        },
        "id": "0xGVO3rqja32",
        "outputId": "5e7ffc7f-dfc2-4378-84eb-80ede773dd4c"
      },
      "execution_count": null,
      "outputs": [
        {
          "output_type": "stream",
          "name": "stdout",
          "text": [
            "Enter comma-separated integers for the list: 1,2,3,4,5,6\n",
            "Enter the target sum: 4\n",
            "All possible pairs that add up to 4 :\n",
            "[1, 3]\n"
          ]
        }
      ]
    },
    {
      "cell_type": "markdown",
      "source": [
        "2\n"
      ],
      "metadata": {
        "id": "EtgPuzHfkNqq"
      }
    },
    {
      "cell_type": "code",
      "source": [
        "def find_two_largest_and_product(nums):\n",
        "  \"\"\"\n",
        "  Finds the two largest numbers in the given unsorted list `nums` and returns their product.\n",
        "\n",
        "  Args:\n",
        "      nums: A list of integers.\n",
        "\n",
        "  Returns:\n",
        "      A tuple containing the two largest numbers and their product, or None if the list is empty.\n",
        "  \"\"\"\n",
        "\n",
        "  if not nums:  # Check if the list is empty\n",
        "    return None  # Return None to indicate an empty list\n",
        "\n",
        "  # Initialize with the first element for comparison\n",
        "  largest1 = nums[0]\n",
        "\n",
        "  for num in nums[1:]:\n",
        "    # Update largest1 if the current number is larger\n",
        "    if num > largest1:\n",
        "      largest1 = num\n",
        "\n",
        "  # Find the second largest number (excluding the largest)\n",
        "  largest2 = max(num for num in nums if num != largest1)  # List comprehension for filtering\n",
        "\n",
        "  return largest1, largest2, largest1 * largest2\n",
        "\n",
        "# Get user input for the list of integers\n",
        "num_str = input(\"Enter comma-separated integers for the list: \")\n",
        "nums = [int(num) for num in num_str.split(\",\")]\n",
        "\n",
        "largest1, largest2, product = find_two_largest_and_product(nums)\n",
        "\n",
        "if largest1 is not None:  # Check if list wasn't empty\n",
        "  print(\"Two largest numbers:\", largest1, largest2)\n",
        "  print(\"Product of the two largest numbers:\", product)\n",
        "else:\n",
        "  print(\"The list is empty.\")\n"
      ],
      "metadata": {
        "colab": {
          "base_uri": "https://localhost:8080/"
        },
        "id": "7O2BKi8gkPKe",
        "outputId": "90f585a4-9c65-42d4-a2df-0f9754dfdf1c"
      },
      "execution_count": null,
      "outputs": [
        {
          "output_type": "stream",
          "name": "stdout",
          "text": [
            "Enter comma-separated integers for the list: 12,3,4,5,6,7\n",
            "Two largest numbers: 12 7\n",
            "Product of the two largest numbers: 84\n"
          ]
        }
      ]
    },
    {
      "cell_type": "markdown",
      "source": [
        "3\n"
      ],
      "metadata": {
        "id": "k92kcGOSkb06"
      }
    },
    {
      "cell_type": "code",
      "source": [
        "def find_swapped_elements(arr):\n",
        "    first_wrong = None\n",
        "    second_wrong = None\n",
        "\n",
        "    for i in range(len(arr) - 1):\n",
        "        if arr[i] > arr[i + 1]:\n",
        "            if first_wrong is None:\n",
        "                first_wrong = i\n",
        "            else:\n",
        "                second_wrong = i + 1\n",
        "                break\n",
        "\n",
        "    return first_wrong, second_wrong\n",
        "\n",
        "def sort_array_with_swapped_elements(arr):\n",
        "    first_wrong, second_wrong = find_swapped_elements(arr)\n",
        "\n",
        "    if first_wrong is not None and second_wrong is not None:\n",
        "        arr[first_wrong], arr[second_wrong] = arr[second_wrong], arr[first_wrong]\n",
        "\n",
        "    return arr\n",
        "\n",
        "# Take input from the user\n",
        "arr = list(map(int, input(\"Enter the elements of the array separated by space: \").split()))\n",
        "\n",
        "sorted_arr = sort_array_with_swapped_elements(arr)\n",
        "print(\"Array with swapped elements corrected:\", sorted_arr)\n",
        "\n"
      ],
      "metadata": {
        "id": "ceqO2AGNkdBt",
        "colab": {
          "base_uri": "https://localhost:8080/"
        },
        "outputId": "a5d9f777-a69a-4296-f8f7-bfb05da898e6"
      },
      "execution_count": 4,
      "outputs": [
        {
          "output_type": "stream",
          "name": "stdout",
          "text": [
            "Enter the elements of the array separated by space: 1 2 3 4 5\n",
            "Array with swapped elements corrected: [1, 2, 3, 4, 5]\n"
          ]
        }
      ]
    },
    {
      "cell_type": "markdown",
      "source": [
        "4\n"
      ],
      "metadata": {
        "id": "VCvUwxvFke8C"
      }
    },
    {
      "cell_type": "code",
      "source": [
        "def segregate_0s_and_1s(nums):\n",
        "\n",
        "  # Two pointer approach\n",
        "  left = 0\n",
        "  right = len(nums) - 1\n",
        "\n",
        "  while left < right:\n",
        "    # Find the first 1 from the left side\n",
        "    while left < right and nums[left] == 0:\n",
        "      left += 1\n",
        "\n",
        "    # Find the last 0 from the right side\n",
        "    while left < right and nums[right] == 1:\n",
        "      right -= 1\n",
        "\n",
        "    # Swap if left and right haven't crossed\n",
        "    if left < right:\n",
        "      nums[left], nums[right] = nums[right], nums[left]\n",
        "      left += 1\n",
        "      right -= 1\n",
        "\n",
        "  return nums\n",
        "\n",
        "def get_binary_list():\n",
        "  \"\"\"\n",
        "  Prompts the user for comma-separated integers (0s and 1s) and validates input.\n",
        "  \"\"\"\n",
        "  while True:\n",
        "    num_str = input(\"Enter comma-separated integers (0s and 1s) for the list: \")\n",
        "    try:\n",
        "      nums = [int(num) for num in num_str.split(\",\")]\n",
        "      # Validate if all elements are 0 or 1\n",
        "      if all(num in (0, 1) for num in nums):\n",
        "        return nums\n",
        "      else:\n",
        "        print(\"Invalid input: Please enter only 0s and 1s.\")\n",
        "    except ValueError:\n",
        "      print(\"Invalid input: Please enter comma-separated integers.\")\n",
        "\n",
        "# Get user input and validate\n",
        "nums = get_binary_list()\n",
        "\n",
        "# Segregate 0s and 1s\n",
        "sorted_list = segregate_0s_and_1s(nums)\n",
        "\n",
        "print(\"Segregated list:\", sorted_list)\n"
      ],
      "metadata": {
        "colab": {
          "base_uri": "https://localhost:8080/"
        },
        "id": "dB3lcqWKkgBE",
        "outputId": "0248ad89-0a68-4517-a9f0-e9a17a889a21"
      },
      "execution_count": null,
      "outputs": [
        {
          "output_type": "stream",
          "name": "stdout",
          "text": [
            "Enter comma-separated integers (0s and 1s) for the list: 0,1,1,1,1,\n",
            "Invalid input: Please enter comma-separated integers.\n",
            "Enter comma-separated integers (0s and 1s) for the list: 1,1,1,1,1\n",
            "Segregated list: [1, 1, 1, 1, 1]\n"
          ]
        }
      ]
    },
    {
      "cell_type": "markdown",
      "source": [
        "5\n"
      ],
      "metadata": {
        "id": "PFIWVQ5kkq23"
      }
    },
    {
      "cell_type": "code",
      "source": [
        "def find_inversion_count_and_pairs(nums):\n",
        "  \"\"\"\n",
        "  Finds the total number of inversions (i, j) in a list `nums` such that i < j and nums[i] > nums[j].\n",
        "  Also prints the inversion pairs.\n",
        "\n",
        "  Args:\n",
        "      nums: A list of integers.\n",
        "\n",
        "  Returns:\n",
        "      A tuple containing the total number of inversions and a list of inversion pairs.\n",
        "  \"\"\"\n",
        "\n",
        "  def merge_and_count(left, right):\n",
        "    \"\"\"\n",
        "    Merges two sorted sub-arrays and counts inversions during merging, recording pairs.\n",
        "\n",
        "    Args:\n",
        "        left: A sorted sub-array (list).\n",
        "        right: A sorted sub-array (list).\n",
        "\n",
        "    Returns:\n",
        "        A tuple containing the merged sorted sub-array, the inversion count, and a list of inversion pairs.\n",
        "    \"\"\"\n",
        "    i, j, count = 0, 0, 0\n",
        "    merged = []\n",
        "    inversion_pairs = []\n",
        "\n",
        "    while i < len(left) and j < len(right):\n",
        "      if left[i] <= right[j]:\n",
        "        merged.append(left[i])\n",
        "        i += 1\n",
        "      else:\n",
        "        # Count inversions and record pairs\n",
        "        count += len(left) - i\n",
        "        for k in range(i, len(left)):\n",
        "          inversion_pairs.append((left[k], right[j]))\n",
        "        merged.append(right[j])\n",
        "        j += 1\n",
        "\n",
        "    # Append remaining elements (if any)\n",
        "    merged.extend(left[i:])\n",
        "    merged.extend(right[j:])\n",
        "\n",
        "    return merged, count, inversion_pairs\n",
        "\n",
        "  # Divide and Conquer approach using merge sort\n",
        "  def merge_sort_and_count(nums):\n",
        "    if len(nums) <= 1:\n",
        "      return nums, 0, []\n",
        "\n",
        "    mid = len(nums) // 2\n",
        "    left, left_count, left_pairs = merge_sort_and_count(nums[:mid])\n",
        "    right, right_count, right_pairs = merge_sort_and_count(nums[mid:])\n",
        "\n",
        "    merged, merge_count, merge_pairs = merge_and_count(left, right)\n",
        "    return merged, left_count + right_count + merge_count, left_pairs + right_pairs + merge_pairs\n",
        "\n",
        "  # Sort and count inversions\n",
        "  sorted_nums, inversion_count, inversion_pairs = merge_sort_and_count(nums)\n",
        "  return inversion_count, inversion_pairs\n",
        "\n",
        "# Get user input for the list of integers\n",
        "num_str = input(\"Enter comma-separated integers for the list: \")\n",
        "nums = [int(num) for num in num_str.split(\",\")]\n",
        "\n",
        "inversion_count, inversion_pairs = find_inversion_count_and_pairs(nums)\n",
        "print(\"Inversion count:\", inversion_count)\n",
        "\n",
        "if inversion_pairs:\n",
        "  print(\"Inversion pairs:\", inversion_pairs)\n",
        "else:\n",
        "  print(\"No inversion pairs found.\")\n",
        "\n"
      ],
      "metadata": {
        "colab": {
          "base_uri": "https://localhost:8080/"
        },
        "id": "84h_DRq9kr8Y",
        "outputId": "62409630-2c7e-4e7c-b7a2-29b37ca06fc3"
      },
      "execution_count": null,
      "outputs": [
        {
          "output_type": "stream",
          "name": "stdout",
          "text": [
            "Enter comma-separated integers for the list: 1,2,3,4,5\n",
            "Inversion count: 0\n",
            "No inversion pairs found.\n"
          ]
        }
      ]
    },
    {
      "cell_type": "markdown",
      "source": [
        "6a\n"
      ],
      "metadata": {
        "id": "ckkYHYpZjET6"
      }
    },
    {
      "cell_type": "code",
      "source": [
        "def two_sum_n_squared(arr, K):\n",
        "    n = len(arr)\n",
        "    for i in range(n):\n",
        "        for j in range(i+1, n):\n",
        "            if arr[i] + arr[j] == K:\n",
        "                return True, arr[i], arr[j]\n",
        "    return False, None, None\n",
        "\n",
        "# Example usage:\n",
        "arr = [8, 4, 1, 6]\n",
        "K = 10\n",
        "exists, num1, num2 = two_sum_n_squared(arr, K)\n",
        "if exists:\n",
        "    print(f\"Yes, {num1} and {num2} sum up to {K}.\")\n",
        "else:\n",
        "    print(\"No such pair exists.\")\n"
      ],
      "metadata": {
        "colab": {
          "base_uri": "https://localhost:8080/"
        },
        "id": "cbjy4gJEjFbr",
        "outputId": "5a5d95ed-dcb9-4d78-e552-a8b6224e1fdd"
      },
      "execution_count": 5,
      "outputs": [
        {
          "output_type": "stream",
          "name": "stdout",
          "text": [
            "Yes, 4 and 6 sum up to 10.\n"
          ]
        }
      ]
    },
    {
      "cell_type": "markdown",
      "source": [
        "6b"
      ],
      "metadata": {
        "id": "17aiCMlTk3E9"
      }
    },
    {
      "cell_type": "code",
      "source": [
        "def two_sum_n_log_n(arr, K):\n",
        "    arr.sort()\n",
        "    left = 0\n",
        "    right = len(arr) - 1\n",
        "\n",
        "    while left < right:\n",
        "        current_sum = arr[left] + arr[right]\n",
        "        if current_sum == K:\n",
        "            return True, arr[left], arr[right]\n",
        "        elif current_sum < K:\n",
        "            left += 1\n",
        "        else:\n",
        "            right -= 1\n",
        "\n",
        "    return False, None, None\n",
        "\n",
        "# Example usage:\n",
        "arr = [8, 4, 1, 6]\n",
        "K = 10\n",
        "exists, num1, num2 = two_sum_n_log_n(arr, K)\n",
        "if exists:\n",
        "    print(f\"Yes, {num1} and {num2} sum up to {K}.\")\n",
        "else:\n",
        "    print(\"No such pair exists.\")\n"
      ],
      "metadata": {
        "colab": {
          "base_uri": "https://localhost:8080/"
        },
        "id": "rrnp42yqk4wP",
        "outputId": "f0a0189a-7038-4569-de33-fda1c52c09d0"
      },
      "execution_count": 6,
      "outputs": [
        {
          "output_type": "stream",
          "name": "stdout",
          "text": [
            "Yes, 4 and 6 sum up to 10.\n"
          ]
        }
      ]
    }
  ]
}