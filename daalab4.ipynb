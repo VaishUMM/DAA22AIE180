{
  "nbformat": 4,
  "nbformat_minor": 0,
  "metadata": {
    "colab": {
      "provenance": []
    },
    "kernelspec": {
      "name": "python3",
      "display_name": "Python 3"
    },
    "language_info": {
      "name": "python"
    }
  },
  "cells": [
    {
      "cell_type": "markdown",
      "source": [
        "q1"
      ],
      "metadata": {
        "id": "ODqlD8mLWknw"
      }
    },
    {
      "cell_type": "code",
      "source": [
        "class Item:\n",
        "    def __init__(self, benefit, weight):\n",
        "        self.benefit = benefit\n",
        "        self.weight = weight\n",
        "        self.ratio = benefit / weight\n",
        "\n",
        "def fractional_knapsack(items, capacity):\n",
        "    # Sort items based on benefit-to-weight ratio in non-increasing order\n",
        "    items.sort(key=lambda x: x.ratio, reverse=True)\n",
        "\n",
        "    total_benefit = 0\n",
        "    remaining_capacity = capacity\n",
        "\n",
        "    for item in items:\n",
        "        if remaining_capacity >= item.weight:\n",
        "            # Take the whole item\n",
        "            total_benefit += item.benefit\n",
        "            remaining_capacity -= item.weight\n",
        "        else:\n",
        "            # Take a fraction of the item\n",
        "            fraction = remaining_capacity / item.weight\n",
        "            total_benefit += fraction * item.benefit\n",
        "            remaining_capacity = 0\n",
        "            break  # Knapsack full\n",
        "\n",
        "    return total_benefit\n",
        "\n",
        "# Example usage:\n",
        "items = [Item(60, 10), Item(100, 20), Item(120, 30)]\n",
        "capacity = 50\n",
        "\n",
        "optimal_solution = fractional_knapsack(items, capacity)\n",
        "print(\"Optimal solution:\", optimal_solution)\n"
      ],
      "metadata": {
        "colab": {
          "base_uri": "https://localhost:8080/"
        },
        "id": "xsE0LAF2Wlko",
        "outputId": "1e41179c-18e1-49da-9ac1-ad6e403f2fe2"
      },
      "execution_count": 2,
      "outputs": [
        {
          "output_type": "stream",
          "name": "stdout",
          "text": [
            "Optimal solution: 240.0\n"
          ]
        }
      ]
    },
    {
      "cell_type": "markdown",
      "source": [
        "q2"
      ],
      "metadata": {
        "id": "UJkQyrj8aooQ"
      }
    },
    {
      "cell_type": "code",
      "source": [
        "def maximize_sum(arr):\n",
        "    # Sort the array in non-decreasing order\n",
        "    arr.sort()\n",
        "\n",
        "    # Initialize the sum\n",
        "    total_sum = 0\n",
        "\n",
        "    # Calculate the sum of arr[i] * i\n",
        "    for i, num in enumerate(arr):\n",
        "        total_sum += num * i\n",
        "\n",
        "    return total_sum\n",
        "\n",
        "# Example usage:\n",
        "arr = [2, 5, 3, 4, 0]\n",
        "maximized_sum = maximize_sum(arr)\n",
        "print(\"Maximized sum:\", maximized_sum)\n"
      ],
      "metadata": {
        "colab": {
          "base_uri": "https://localhost:8080/"
        },
        "id": "0UKMc1jKaqGe",
        "outputId": "cecdcb1b-c37d-4401-9fb9-d593ad004b07"
      },
      "execution_count": 5,
      "outputs": [
        {
          "output_type": "stream",
          "name": "stdout",
          "text": [
            "Maximized sum: 40\n"
          ]
        }
      ]
    },
    {
      "cell_type": "markdown",
      "source": [
        "q3"
      ],
      "metadata": {
        "id": "6jGiIYmqfHRE"
      }
    },
    {
      "cell_type": "code",
      "source": [
        "def min_sum_of_products(arr1, arr2):\n",
        "    # Sort both arrays in non-decreasing order\n",
        "    arr1.sort()\n",
        "    arr2.sort(reverse=True)  # Sorting array_two in non-increasing order\n",
        "\n",
        "    # Calculate the sum of products of corresponding elements\n",
        "    min_sum = sum(a * b for a, b in zip(arr1, arr2))\n",
        "\n",
        "    return min_sum\n",
        "\n",
        "def main():\n",
        "    # Input array_one\n",
        "    array_one = list(map(int, input(\"Enter the elements of array one separated by spaces: \").split()))\n",
        "\n",
        "    # Input array_two\n",
        "    array_two = list(map(int, input(\"Enter the elements of array two separated by spaces: \").split()))\n",
        "\n",
        "    # Check if arrays are of the same size\n",
        "    if len(array_one) != len(array_two):\n",
        "        print(\"Arrays must be of the same size.\")\n",
        "        return\n",
        "\n",
        "    # Calculate and print the minimum sum of products\n",
        "    min_sum = min_sum_of_products(array_one, array_two)\n",
        "    print(\"Minimum sum of products:\", min_sum)\n",
        "\n",
        "if __name__ == \"__main__\":\n",
        "    main()\n",
        "\n",
        "\n",
        "\n",
        "\n",
        "\n",
        ""
      ],
      "metadata": {
        "colab": {
          "base_uri": "https://localhost:8080/"
        },
        "id": "CmAGjKaMfJGv",
        "outputId": "68355b32-b193-45cc-930b-c3d54390e979"
      },
      "execution_count": 13,
      "outputs": [
        {
          "output_type": "stream",
          "name": "stdout",
          "text": [
            "Enter the elements of array one separated by spaces: 1 4 5 7\n",
            "Enter the elements of array two separated by spaces: 6 17 9 3\n",
            "Minimum sum of products: 104\n"
          ]
        }
      ]
    },
    {
      "cell_type": "markdown",
      "source": [],
      "metadata": {
        "id": "0eOgp9pYbb-v"
      }
    }
  ]
}